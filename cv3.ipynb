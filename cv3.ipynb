{
 "cells": [
  {
   "cell_type": "code",
   "execution_count": 1,
   "id": "da09f9cc",
   "metadata": {},
   "outputs": [],
   "source": [
    "import cv2\n",
    "import numpy as np\n",
    "from PIL import Image\n",
    "import os\n",
    "from IPython.display import display, Image as IPImage\n",
    "from io import BytesIO\n",
    "import time"
   ]
  },
  {
   "cell_type": "code",
   "execution_count": null,
   "id": "78971375",
   "metadata": {},
   "outputs": [],
   "source": [
    "# Function to display the frame in the Jupyter Notebook\n",
    "def show_in_notebook(frame):\n",
    "    _, img_encoded = cv2.imencode('.png', frame)\n",
    "    img_bytes = BytesIO(img_encoded)\n",
    "    display(IPImage(data=img_bytes.getvalue()))"
   ]
  },
  {
   "cell_type": "code",
   "execution_count": 3,
   "id": "a1852467",
   "metadata": {},
   "outputs": [],
   "source": [
    "# Function to capture image from webcam with a 10-second delay\n",
    "def capture_image():\n",
    "    cap = cv2.VideoCapture(0)\n",
    "    \n",
    "    print(\"Camera is open, adjusting position...\")\n",
    "    for i in range(1, 0, -1):\n",
    "        ret, frame = cap.read()\n",
    "        if not ret:\n",
    "            print(\"Failed to capture image\")\n",
    "            break\n",
    "\n",
    "    # Capture the final image after countdown\n",
    "    ret, captured_image = cap.read()\n",
    "    if not ret:\n",
    "        print(\"Failed to capture image\")\n",
    "        cap.release()\n",
    "        return None\n",
    "\n",
    "    cap.release()\n",
    "    return captured_image"
   ]
  },
  {
   "cell_type": "code",
   "execution_count": 30,
   "id": "e7753bab",
   "metadata": {},
   "outputs": [],
   "source": [
    "# Function to save the document\n",
    "def save_image(image, filename='scanned_document.png'):\n",
    "    desktop_path = os.path.join(os.path.join(os.environ['USERPROFILE']), 'Desktop')\n",
    "    full_path = os.path.join(desktop_path, filename)\n",
    "    \n",
    "    Image.fromarray(cv2.cvtColor(image, cv2.COLOR_BGR2RGB)).save(full_path)\n",
    "    print(f\"Document saved at: {full_path}\")"
   ]
  },
  {
   "cell_type": "code",
   "execution_count": 31,
   "id": "c13fedc7",
   "metadata": {},
   "outputs": [],
   "source": [
    "# Main function\n",
    "def scan_document():\n",
    "    # Step 1: Capture the image from webcam\n",
    "    document_image = capture_image()\n",
    "\n",
    "    # Save the original image for debugging\n",
    "    save_image(document_image, filename='original_captured_image.png')\n"
   ]
  },
  {
   "cell_type": "code",
   "execution_count": null,
   "id": "0401bdf8",
   "metadata": {},
   "outputs": [],
   "source": [
    "# Run the scanning process\n",
    "if __name__ == \"__main__\":\n",
    "    scan_document()"
   ]
  }
 ],
 "metadata": {
  "kernelspec": {
   "display_name": "Python 3 (ipykernel)",
   "language": "python",
   "name": "python3"
  },
  "language_info": {
   "codemirror_mode": {
    "name": "ipython",
    "version": 3
   },
   "file_extension": ".py",
   "mimetype": "text/x-python",
   "name": "python",
   "nbconvert_exporter": "python",
   "pygments_lexer": "ipython3",
   "version": "3.9.13"
  }
 },
 "nbformat": 4,
 "nbformat_minor": 5
}
